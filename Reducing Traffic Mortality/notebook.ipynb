{
  "nbformat": 4,
  "nbformat_minor": 0,
  "metadata": {
    "kernelspec": {
      "display_name": "Python 3",
      "name": "python3",
      "language": "python"
    },
    "language_info": {
      "nbconvert_exporter": "python",
      "name": "python",
      "codemirror_mode": {
        "version": 3,
        "name": "ipython"
      },
      "pygments_lexer": "ipython3",
      "version": "3.5.2",
      "mimetype": "text/x-python",
      "file_extension": ".py"
    },
    "colab": {
      "name": "notebook.ipynb",
      "provenance": []
    }
  },
  "cells": [
    {
      "cell_type": "markdown",
      "metadata": {
        "id": "sxwdm477Jel5"
      },
      "source": [
        "#Reducing Traffic Mortality \n",
        "realized by : Mohamed EL IBRAHIMI\n",
        "##### From Datacamp Projects"
      ]
    },
    {
      "cell_type": "markdown",
      "metadata": {
        "editable": false,
        "dc": {
          "key": "3"
        },
        "tags": [
          "context"
        ],
        "run_control": {
          "frozen": true
        },
        "deletable": false,
        "id": "lA-q-YPOJM8N"
      },
      "source": [
        "##INTRODUCTION\n",
        "<p>While the rate of fatal road accidents has been decreasing steadily since the 80s, the past ten years have seen a stagnation in this reduction. Coupled with the increase in number of miles driven in the nation, the total number of traffic related-fatalities has now reached a ten year high and is rapidly increasing.</p>\n"
      ]
    },
    {
      "cell_type": "code",
      "metadata": {
        "id": "12PXuulZK0oj"
      },
      "source": [
        "# Code to read csv file into colaboratory:\n",
        "!pip install -U -q PyDrive\n",
        "from pydrive.auth import GoogleAuth\n",
        "from pydrive.drive import GoogleDrive\n",
        "from google.colab import auth\n",
        "from oauth2client.client import GoogleCredentials"
      ],
      "execution_count": 1,
      "outputs": []
    },
    {
      "cell_type": "code",
      "metadata": {
        "id": "1NrW3lhuK9L_"
      },
      "source": [
        "auth.authenticate_user()\n",
        "gauth = GoogleAuth()\n",
        "gauth.credentials = GoogleCredentials.get_application_default()\n",
        "drive = GoogleDrive(gauth)"
      ],
      "execution_count": 2,
      "outputs": []
    },
    {
      "cell_type": "code",
      "metadata": {
        "id": "28SV5cpGLHL2"
      },
      "source": [
        "\n",
        "downloaded = drive.CreateFile({'id':'1WrOHfogDSykVts81z8eG3x9XClGENd4C'}) \n",
        "downloaded.GetContentFile('road-accidents.csv') "
      ],
      "execution_count": 3,
      "outputs": []
    },
    {
      "cell_type": "code",
      "metadata": {
        "id": "EDKweR3UL6Gz"
      },
      "source": [
        "import pandas as pd\n",
        "import numpy as np"
      ],
      "execution_count": 4,
      "outputs": []
    },
    {
      "cell_type": "markdown",
      "metadata": {
        "editable": false,
        "dc": {
          "key": "10"
        },
        "tags": [
          "context"
        ],
        "run_control": {
          "frozen": true
        },
        "deletable": false,
        "id": "OkgxQsfpJM8P"
      },
      "source": [
        "## 2. Read in and get in an overview of the data\n",
        "<p>Next, i will orient ourselves to get to know the data with which we are dealing.</p>"
      ]
    },
    {
      "cell_type": "code",
      "metadata": {
        "trusted": true,
        "dc": {
          "key": "10"
        },
        "tags": [
          "sample_code"
        ],
        "colab": {
          "base_uri": "https://localhost:8080/",
          "height": 435
        },
        "id": "0xy5HRCBJM8Q",
        "outputId": "71d08197-1d31-4dbd-b386-48a45a0efc0e"
      },
      "source": [
        "import pandas as pd\n",
        "\n",
        "\n",
        "# Read in `road-accidents.csv`\n",
        "car_acc =pd.read_csv('road-accidents.csv',comment='#', sep='|')\n",
        "\n",
        "# Saving the number of rows columns as a tuple\n",
        "rows_and_cols = car_acc.shape\n",
        "print('There are {} rows and {} columns.\\n'.format(\n",
        "    rows_and_cols[0], rows_and_cols[1]))\n",
        "\n",
        "# Generating an overview of the DataFrame\n",
        "car_acc_information = car_acc.info()\n",
        "print(car_acc_information)\n",
        "\n",
        "# Display the last five rows of the DataFrame\n",
        "car_acc.tail()"
      ],
      "execution_count": 6,
      "outputs": [
        {
          "output_type": "stream",
          "text": [
            "There are 51 rows and 5 columns.\n",
            "\n",
            "<class 'pandas.core.frame.DataFrame'>\n",
            "RangeIndex: 51 entries, 0 to 50\n",
            "Data columns (total 5 columns):\n",
            " #   Column                Non-Null Count  Dtype  \n",
            "---  ------                --------------  -----  \n",
            " 0   state                 51 non-null     object \n",
            " 1   drvr_fatl_col_bmiles  51 non-null     float64\n",
            " 2   perc_fatl_speed       51 non-null     int64  \n",
            " 3   perc_fatl_alcohol     51 non-null     int64  \n",
            " 4   perc_fatl_1st_time    51 non-null     int64  \n",
            "dtypes: float64(1), int64(3), object(1)\n",
            "memory usage: 2.1+ KB\n",
            "None\n"
          ],
          "name": "stdout"
        },
        {
          "output_type": "execute_result",
          "data": {
            "text/html": [
              "<div>\n",
              "<style scoped>\n",
              "    .dataframe tbody tr th:only-of-type {\n",
              "        vertical-align: middle;\n",
              "    }\n",
              "\n",
              "    .dataframe tbody tr th {\n",
              "        vertical-align: top;\n",
              "    }\n",
              "\n",
              "    .dataframe thead th {\n",
              "        text-align: right;\n",
              "    }\n",
              "</style>\n",
              "<table border=\"1\" class=\"dataframe\">\n",
              "  <thead>\n",
              "    <tr style=\"text-align: right;\">\n",
              "      <th></th>\n",
              "      <th>state</th>\n",
              "      <th>drvr_fatl_col_bmiles</th>\n",
              "      <th>perc_fatl_speed</th>\n",
              "      <th>perc_fatl_alcohol</th>\n",
              "      <th>perc_fatl_1st_time</th>\n",
              "    </tr>\n",
              "  </thead>\n",
              "  <tbody>\n",
              "    <tr>\n",
              "      <th>46</th>\n",
              "      <td>Virginia</td>\n",
              "      <td>12.7</td>\n",
              "      <td>19</td>\n",
              "      <td>27</td>\n",
              "      <td>88</td>\n",
              "    </tr>\n",
              "    <tr>\n",
              "      <th>47</th>\n",
              "      <td>Washington</td>\n",
              "      <td>10.6</td>\n",
              "      <td>42</td>\n",
              "      <td>33</td>\n",
              "      <td>86</td>\n",
              "    </tr>\n",
              "    <tr>\n",
              "      <th>48</th>\n",
              "      <td>West Virginia</td>\n",
              "      <td>23.8</td>\n",
              "      <td>34</td>\n",
              "      <td>28</td>\n",
              "      <td>87</td>\n",
              "    </tr>\n",
              "    <tr>\n",
              "      <th>49</th>\n",
              "      <td>Wisconsin</td>\n",
              "      <td>13.8</td>\n",
              "      <td>36</td>\n",
              "      <td>33</td>\n",
              "      <td>84</td>\n",
              "    </tr>\n",
              "    <tr>\n",
              "      <th>50</th>\n",
              "      <td>Wyoming</td>\n",
              "      <td>17.4</td>\n",
              "      <td>42</td>\n",
              "      <td>32</td>\n",
              "      <td>90</td>\n",
              "    </tr>\n",
              "  </tbody>\n",
              "</table>\n",
              "</div>"
            ],
            "text/plain": [
              "            state  drvr_fatl_col_bmiles  ...  perc_fatl_alcohol  perc_fatl_1st_time\n",
              "46       Virginia                  12.7  ...                 27                  88\n",
              "47     Washington                  10.6  ...                 33                  86\n",
              "48  West Virginia                  23.8  ...                 28                  87\n",
              "49      Wisconsin                  13.8  ...                 33                  84\n",
              "50        Wyoming                  17.4  ...                 32                  90\n",
              "\n",
              "[5 rows x 5 columns]"
            ]
          },
          "metadata": {
            "tags": []
          },
          "execution_count": 6
        }
      ]
    },
    {
      "cell_type": "markdown",
      "metadata": {
        "editable": false,
        "dc": {
          "key": "17"
        },
        "tags": [
          "context"
        ],
        "run_control": {
          "frozen": true
        },
        "deletable": false,
        "id": "ae9TDrg3JM8R"
      },
      "source": [
        "## 3. Creating a textual and a graphical summary of the data\n",
        "<p>We now have an idea of what the dataset looks like. To further familiarize ourselves with this data, we will calculate summary statistics and produce a graphical overview of the data. The graphical overview is good to get a sense for the distribution of variables within the data and could consist of one histogram per column. It is often a good idea to also explore the pairwise relationship between all columns in the data set by using a using pairwise scatter plots (sometimes referred to as a \"scatterplot matrix\").</p>"
      ]
    },
    {
      "cell_type": "code",
      "metadata": {
        "trusted": true,
        "dc": {
          "key": "17"
        },
        "tags": [
          "sample_code"
        ],
        "colab": {
          "base_uri": "https://localhost:8080/",
          "height": 921
        },
        "id": "0hxdybOyJM8S",
        "outputId": "642daccf-df46-4337-de04-4202852f91e0"
      },
      "source": [
        "# import seaborn and making plots appear inline\n",
        "import seaborn as sns\n",
        "%matplotlib inline\n",
        "\n",
        "#  the summary statistics of all columns in the `car_acc` DataFrame\n",
        "sum_stat_car = car_acc.describe()\n",
        "print(sum_stat_car)\n",
        "\n",
        "#  pairwise scatter plot to explore the data\n",
        "\n",
        "sns.pairplot(car_acc)"
      ],
      "execution_count": 7,
      "outputs": [
        {
          "output_type": "stream",
          "text": [
            "       drvr_fatl_col_bmiles  ...  perc_fatl_1st_time\n",
            "count             51.000000  ...            51.00000\n",
            "mean              15.790196  ...            88.72549\n",
            "std                4.122002  ...             6.96011\n",
            "min                5.900000  ...            76.00000\n",
            "25%               12.750000  ...            83.50000\n",
            "50%               15.600000  ...            88.00000\n",
            "75%               18.500000  ...            95.00000\n",
            "max               23.900000  ...           100.00000\n",
            "\n",
            "[8 rows x 4 columns]\n"
          ],
          "name": "stdout"
        },
        {
          "output_type": "execute_result",
          "data": {
            "text/plain": [
              "<seaborn.axisgrid.PairGrid at 0x7f2e09d74438>"
            ]
          },
          "metadata": {
            "tags": []
          },
          "execution_count": 7
        },
        {
          "output_type": "display_data",
          "data": {
            "image/png": "[encoded data removed]",
            "text/plain": [
              "<Figure size 720x720 with 20 Axes>"
            ]
          },
          "metadata": {
            "tags": [],
            "needs_background": "light"
          }
        }
      ]
    },
    {
      "cell_type": "markdown",
      "metadata": {
        "editable": false,
        "dc": {
          "key": "24"
        },
        "tags": [
          "context"
        ],
        "run_control": {
          "frozen": true
        },
        "deletable": false,
        "id": "fz2yCz52JM8T"
      },
      "source": [
        "## 4. Quantifying the association of features and accidents\n",
        "<p>We can already see some potentially interesting relationships between the target variable (the number of fatal accidents) and the feature variables (the remaining three columns).</p>\n",
        "<p>To quantify the pairwise relationships that we observed in the scatter plots, we can compute the Pearson correlation coefficient matrix. The Pearson correlation coefficient is one of the most common methods to quantify correlation between variables, and by convention, the following thresholds are usually used:</p>\n",
        "<ul>\n",
        "<li>0.2 = weak</li>\n",
        "<li>0.5 = medium</li>\n",
        "<li>0.8 = strong</li>\n",
        "<li>0.9 = very strong</li>\n",
        "</ul>"
      ]
    },
    {
      "cell_type": "code",
      "metadata": {
        "trusted": true,
        "dc": {
          "key": "24"
        },
        "tags": [
          "sample_code"
        ],
        "colab": {
          "base_uri": "https://localhost:8080/",
          "height": 162
        },
        "id": "CDCryeipJM8T",
        "outputId": "479555f5-2de7-4884-927c-5c717c62cdf2"
      },
      "source": [
        "# correlation coefficent for all column pairs\n",
        "corr_columns = car_acc.corr()\n",
        "corr_columns"
      ],
      "execution_count": 8,
      "outputs": [
        {
          "output_type": "execute_result",
          "data": {
            "text/html": [
              "<div>\n",
              "<style scoped>\n",
              "    .dataframe tbody tr th:only-of-type {\n",
              "        vertical-align: middle;\n",
              "    }\n",
              "\n",
              "    .dataframe tbody tr th {\n",
              "        vertical-align: top;\n",
              "    }\n",
              "\n",
              "    .dataframe thead th {\n",
              "        text-align: right;\n",
              "    }\n",
              "</style>\n",
              "<table border=\"1\" class=\"dataframe\">\n",
              "  <thead>\n",
              "    <tr style=\"text-align: right;\">\n",
              "      <th></th>\n",
              "      <th>drvr_fatl_col_bmiles</th>\n",
              "      <th>perc_fatl_speed</th>\n",
              "      <th>perc_fatl_alcohol</th>\n",
              "      <th>perc_fatl_1st_time</th>\n",
              "    </tr>\n",
              "  </thead>\n",
              "  <tbody>\n",
              "    <tr>\n",
              "      <th>drvr_fatl_col_bmiles</th>\n",
              "      <td>1.000000</td>\n",
              "      <td>-0.029080</td>\n",
              "      <td>0.199426</td>\n",
              "      <td>-0.017942</td>\n",
              "    </tr>\n",
              "    <tr>\n",
              "      <th>perc_fatl_speed</th>\n",
              "      <td>-0.029080</td>\n",
              "      <td>1.000000</td>\n",
              "      <td>0.286244</td>\n",
              "      <td>0.014066</td>\n",
              "    </tr>\n",
              "    <tr>\n",
              "      <th>perc_fatl_alcohol</th>\n",
              "      <td>0.199426</td>\n",
              "      <td>0.286244</td>\n",
              "      <td>1.000000</td>\n",
              "      <td>-0.245455</td>\n",
              "    </tr>\n",
              "    <tr>\n",
              "      <th>perc_fatl_1st_time</th>\n",
              "      <td>-0.017942</td>\n",
              "      <td>0.014066</td>\n",
              "      <td>-0.245455</td>\n",
              "      <td>1.000000</td>\n",
              "    </tr>\n",
              "  </tbody>\n",
              "</table>\n",
              "</div>"
            ],
            "text/plain": [
              "                      drvr_fatl_col_bmiles  ...  perc_fatl_1st_time\n",
              "drvr_fatl_col_bmiles              1.000000  ...           -0.017942\n",
              "perc_fatl_speed                  -0.029080  ...            0.014066\n",
              "perc_fatl_alcohol                 0.199426  ...           -0.245455\n",
              "perc_fatl_1st_time               -0.017942  ...            1.000000\n",
              "\n",
              "[4 rows x 4 columns]"
            ]
          },
          "metadata": {
            "tags": []
          },
          "execution_count": 8
        }
      ]
    },
    {
      "cell_type": "markdown",
      "metadata": {
        "editable": false,
        "dc": {
          "key": "31"
        },
        "tags": [
          "context"
        ],
        "run_control": {
          "frozen": true
        },
        "deletable": false,
        "id": "hLeQFOpRJM8U"
      },
      "source": [
        "## 5. Fit a multivariate linear regression\n",
        "<p>From the correlation table, we see that the amount of fatal accidents is most strongly correlated with alcohol consumption (first row). But in addition, we also see that some of the features are correlated with each other, for instance, speeding and alcohol consumption are positively correlated. We, therefore, want to compute the association of the target with each feature while adjusting for the effect of the remaining features. This can be done using multivariate linear regression.</p>\n",
        "<p>Both the multivariate regression and the correlation measure how strongly the features are associated with the outcome (fatal accidents). When comparing the regression coefficients with the correlation coefficients, we will see that they are slightly different. The reason for this is that the multiple regression computes the association of a feature with an outcome, given the association with all other features, which is not accounted for when calculating the correlation coefficients.</p>\n",
        "<p>A particularly interesting case is when the correlation coefficient and the regression coefficient of the same feature have opposite signs. How can this be? For example, when a feature A is positively correlated with the outcome Y but also positively correlated with a different feature B that has a negative effect on Y, then the indirect correlation (A-&gt;B-&gt;Y) can overwhelm the direct correlation (A-&gt;Y). In such a case, the regression coefficient of feature A could be positive, while the correlation coefficient is negative. This is sometimes called a <em>masking</em> relationship. Let’s see if the multivariate regression can reveal such a phenomenon.</p>"
      ]
    },
    {
      "cell_type": "code",
      "metadata": {
        "trusted": true,
        "dc": {
          "key": "31"
        },
        "tags": [
          "sample_code"
        ],
        "colab": {
          "base_uri": "https://localhost:8080/"
        },
        "id": "kGl6xAdLJM8U",
        "outputId": "3a3ac949-83c8-4d1f-f0f7-046c93e36838"
      },
      "source": [
        "# Importing the linear model function from sklearn\n",
        "from sklearn import linear_model\n",
        "\n",
        "# Creating the features and target DataFrames\n",
        "features = car_acc.drop(['state', 'drvr_fatl_col_bmiles'], axis=1)\n",
        "target = car_acc.drvr_fatl_col_bmiles.copy()\n",
        "\n",
        "# linear regression object\n",
        "reg = linear_model.LinearRegression()\n",
        "\n",
        "# Fit a multivariate linear regression model\n",
        "\n",
        "reg.fit(features, target)\n",
        "#  the regression coefficients\n",
        "fit_coef = reg.coef_\n",
        "fit_coef"
      ],
      "execution_count": 9,
      "outputs": [
        {
          "output_type": "execute_result",
          "data": {
            "text/plain": [
              "array([-0.04180041,  0.19086404,  0.02473301])"
            ]
          },
          "metadata": {
            "tags": []
          },
          "execution_count": 9
        }
      ]
    },
    {
      "cell_type": "markdown",
      "metadata": {
        "editable": false,
        "dc": {
          "key": "38"
        },
        "tags": [
          "context"
        ],
        "run_control": {
          "frozen": true
        },
        "deletable": false,
        "id": "wgX5Gt0mJM8V"
      },
      "source": [
        "## 6. Perform PCA on standardized data\n",
        "<p>We have learned that alcohol consumption is weakly associated with the number of fatal accidents across states. This could lead us to conclude that alcohol consumption should be a focus for further investigations and maybe strategies should divide states into high versus low alcohol consumption in accidents. But there are also associations between  alcohol consumptions and the other two features, so it might be worth trying to split the states in a way that accounts for all three features.</p>\n",
        "<p>One way of clustering the data is to use PCA to visualize data in reduced dimensional space where we can try to pick up patterns by eye. PCA uses the absolute variance to calculate the overall variance explained for each principal component, so it is important that the features are on a similar scale (unless we would have a particular reason that one feature should be weighted more).</p>\n",
        "<p>We'll use the appropriate scaling function to standardize the features to be centered with mean 0 and scaled with standard deviation 1.</p>"
      ]
    },
    {
      "cell_type": "code",
      "metadata": {
        "trusted": true,
        "dc": {
          "key": "38"
        },
        "tags": [
          "sample_code"
        ],
        "colab": {
          "base_uri": "https://localhost:8080/",
          "height": 295
        },
        "id": "p4HQMUyLJM8V",
        "outputId": "9864e1ec-aa07-415b-eca2-debb9e441f27"
      },
      "source": [
        "# Standardize and center the feature columns\n",
        "from sklearn.preprocessing import StandardScaler\n",
        "scaler = StandardScaler()\n",
        "features_scaled = scaler.fit_transform(features)\n",
        "\n",
        "# Import the PCA class function from sklearn\n",
        "from sklearn.decomposition import PCA\n",
        "\n",
        "pca = PCA()\n",
        "\n",
        "# Fit the standardized data to the pca\n",
        "\n",
        "pca.fit(features_scaled)\n",
        "# Plot the proportion of variance explained on the y-axis of the bar plot\n",
        "import matplotlib.pyplot as plt\n",
        "plt.bar(range(1, pca.n_components_ + 1),  pca.explained_variance_ratio_)\n",
        "plt.xlabel('Principal component #')\n",
        "plt.ylabel('Proportion of variance explained')\n",
        "plt.xticks([1, 2, 3])\n",
        "\n",
        "# Compute the cumulative proportion of variance explained by the first two principal components\n",
        "two_first_comp_var_exp = two_first_comp_var_exp = pca.explained_variance_ratio_[0].cumsum()[0] + pca.explained_variance_ratio_[1].cumsum()[0]\n",
        "print(\"The cumulative variance of the first two principal components is {}\".format(\n",
        "    round(two_first_comp_var_exp, 5)))"
      ],
      "execution_count": 10,
      "outputs": [
        {
          "output_type": "stream",
          "text": [
            "The cumulative variance of the first two principal components is 0.7947\n"
          ],
          "name": "stdout"
        },
        {
          "output_type": "display_data",
          "data": {
            "image/png": "[encoded data removed]",
            "text/plain": [
              "<Figure size 432x288 with 1 Axes>"
            ]
          },
          "metadata": {
            "tags": [],
            "needs_background": "light"
          }
        }
      ]
    },
    {
      "cell_type": "markdown",
      "metadata": {
        "editable": false,
        "dc": {
          "key": "45"
        },
        "tags": [
          "context"
        ],
        "run_control": {
          "frozen": true
        },
        "deletable": false,
        "id": "Yp4WAK14JM8V"
      },
      "source": [
        "## 7. Visualizing the first two principal components\n",
        "<p>The first two principal components enable visualization of the data in two dimensions while capturing a high proportion of the variation (79%) from all three features: speeding, alcohol influence, and first-time accidents. This enables us to use our eyes to try to discern patterns in the data with the goal to find groups of similar states. Although clustering algorithms are becoming increasingly efficient, human pattern recognition is an easily accessible and very efficient method of assessing patterns in data.</p>\n",
        "<p>We will create a scatter plot of the first principle components and explore how the states cluster together in this visualization.</p>"
      ]
    },
    {
      "cell_type": "code",
      "metadata": {
        "trusted": true,
        "dc": {
          "key": "45"
        },
        "tags": [
          "sample_code"
        ],
        "colab": {
          "base_uri": "https://localhost:8080/",
          "height": 281
        },
        "id": "huQdu5LpJM8V",
        "outputId": "ec92db42-1161-47c8-b98a-f92060035631"
      },
      "source": [
        "# Transform the scaled features using two principal components\n",
        "pca = PCA(n_components=2)\n",
        "p_comps = pca.fit_transform(features_scaled)\n",
        "\n",
        "# Extract the first and second component to use for the scatter plot\n",
        "p_comp1 = p_comps[:,0]\n",
        "p_comp2 = p_comps[:,1]\n",
        "\n",
        "# Plot the first two principal components in a scatter plot\n",
        "plt.scatter(p_comp1, p_comp2)\n"
      ],
      "execution_count": 11,
      "outputs": [
        {
          "output_type": "execute_result",
          "data": {
            "text/plain": [
              "<matplotlib.collections.PathCollection at 0x7f2e01e8a4a8>"
            ]
          },
          "metadata": {
            "tags": []
          },
          "execution_count": 11
        },
        {
          "output_type": "display_data",
          "data": {
            "image/png": "[encoded data removed]",
            "text/plain": [
              "<Figure size 432x288 with 1 Axes>"
            ]
          },
          "metadata": {
            "tags": [],
            "needs_background": "light"
          }
        }
      ]
    },
    {
      "cell_type": "markdown",
      "metadata": {
        "editable": false,
        "dc": {
          "key": "52"
        },
        "tags": [
          "context"
        ],
        "run_control": {
          "frozen": true
        },
        "deletable": false,
        "id": "rVRem29OJM8V"
      },
      "source": [
        "## 8. Finding clusters of similar states in the data\n",
        "<p>It was not entirely clear from the PCA scatter plot how many groups in which the states cluster. To assist with identifying a reasonable number of clusters, we can use KMeans clustering by creating a scree plot and finding the \"elbow\", which is an indication of when the addition of more clusters does not add much explanatory power.</p>"
      ]
    },
    {
      "cell_type": "code",
      "metadata": {
        "trusted": true,
        "dc": {
          "key": "52"
        },
        "tags": [
          "sample_code"
        ],
        "colab": {
          "base_uri": "https://localhost:8080/",
          "height": 281
        },
        "id": "5WF0HfXjJM8W",
        "outputId": "585d1f92-4dce-4834-8e2d-f22b16615e07"
      },
      "source": [
        "# Import KMeans from sklearn\n",
        "from sklearn.cluster import KMeans\n",
        "\n",
        "# A loop will be used to plot the explanatory power for up to 10 KMeans clusters\n",
        "ks = range(1, 10)\n",
        "inertias = []\n",
        "for k in ks:\n",
        "    # Initialize the KMeans object using the current number of clusters (k)\n",
        "    km = KMeans(n_clusters=k, random_state=8)\n",
        "    # Fit the scaled features to the KMeans object\n",
        "    km.fit(features_scaled)\n",
        "    # Append the inertia for `km` to the list of inertias\n",
        "    inertias.append(km.inertia_)\n",
        "    \n",
        "# Plot the results in a line plot\n",
        "plt.plot(ks, inertias , marker='o')"
      ],
      "execution_count": 12,
      "outputs": [
        {
          "output_type": "execute_result",
          "data": {
            "text/plain": [
              "[<matplotlib.lines.Line2D at 0x7f2dff4c65f8>]"
            ]
          },
          "metadata": {
            "tags": []
          },
          "execution_count": 12
        },
        {
          "output_type": "display_data",
          "data": {
            "image/png": "[encoded data removed]",
            "text/plain": [
              "<Figure size 432x288 with 1 Axes>"
            ]
          },
          "metadata": {
            "tags": [],
            "needs_background": "light"
          }
        }
      ]
    },
    {
      "cell_type": "markdown",
      "metadata": {
        "editable": false,
        "dc": {
          "key": "59"
        },
        "tags": [
          "context"
        ],
        "run_control": {
          "frozen": true
        },
        "deletable": false,
        "id": "2N9Gz4V8JM8W"
      },
      "source": [
        "## 9. KMeans to visualize clusters in the PCA scatter plot\n",
        "<p>Since there wasn't a clear elbow in the scree plot, assigning the states to either two or three clusters is a reasonable choice, and we will resume our analysis using three clusters. Let's see how the PCA scatter plot looks if we color the states according to the cluster to which they are assigned.</p>"
      ]
    },
    {
      "cell_type": "code",
      "metadata": {
        "trusted": true,
        "dc": {
          "key": "59"
        },
        "tags": [
          "sample_code"
        ],
        "colab": {
          "base_uri": "https://localhost:8080/",
          "height": 281
        },
        "id": "ZDHJyXQFJM8W",
        "outputId": "74fb66fe-63a8-454f-fd45-5dc25c39eade"
      },
      "source": [
        "\n",
        "# Create a KMeans object with 3 clusters, use random_state=8 \n",
        "km = KMeans(n_clusters=3, random_state=8)\n",
        "\n",
        "# Fit the data to the `km` object\n",
        "km.fit(features_scaled)\n",
        "\n",
        "# Create a scatter plot of the first two principal components\n",
        "# and color it according to the KMeans cluster assignment \n",
        "plt.scatter(p_comp1, p_comp2, c=km.labels_)"
      ],
      "execution_count": 13,
      "outputs": [
        {
          "output_type": "execute_result",
          "data": {
            "text/plain": [
              "<matplotlib.collections.PathCollection at 0x7f2dff42d828>"
            ]
          },
          "metadata": {
            "tags": []
          },
          "execution_count": 13
        },
        {
          "output_type": "display_data",
          "data": {
            "image/png": "[encoded data removed]",
            "text/plain": [
              "<Figure size 432x288 with 1 Axes>"
            ]
          },
          "metadata": {
            "tags": [],
            "needs_background": "light"
          }
        }
      ]
    },
    {
      "cell_type": "markdown",
      "metadata": {
        "editable": false,
        "dc": {
          "key": "66"
        },
        "tags": [
          "context"
        ],
        "run_control": {
          "frozen": true
        },
        "deletable": false,
        "id": "0CLpxjWIJM8W"
      },
      "source": [
        "## 10. Visualizing the feature differences between the clusters\n",
        "<p>Thus far, we have used both our visual interpretation of the data and the KMeans clustering algorithm to reveal patterns in the data, but what do these patterns mean?</p>\n",
        "<p>Remember that the information we have used to cluster the states into three distinct groups are the percentage of drivers speeding, under alcohol influence and that has not previously been involved in an accident. We used these clusters to visualize how the states group together when considering the first two principal components. This is good for us to understand structure in the data, but not always easy to understand, especially not if the findings are to be communicated to a non-specialist audience.</p>\n",
        "<p>A reasonable next step in our analysis is to explore how the three clusters are different in terms of the three features that we used for clustering. Instead of using the scaled features, we return to using the unscaled features to help us interpret the differences.</p>"
      ]
    },
    {
      "cell_type": "code",
      "metadata": {
        "trusted": true,
        "dc": {
          "key": "66"
        },
        "tags": [
          "sample_code"
        ],
        "colab": {
          "base_uri": "https://localhost:8080/",
          "height": 695
        },
        "id": "zXgriRgzJM8W",
        "outputId": "7e266dfc-e486-432d-afa2-fdf16400a09d"
      },
      "source": [
        "car_acc['cluster'] = km.labels_\n",
        "\n",
        "display(car_acc.head())\n",
        "\n",
        "# Reshape the DataFrame to the long format\n",
        "melt_car = pd.melt(car_acc, id_vars=['cluster'],\n",
        "                  var_name='measurement', value_name='percent',\n",
        "                  value_vars=['perc_fatl_speed', 'perc_fatl_alcohol','perc_fatl_1st_time'])\n",
        "\n",
        "display(melt_car.head())\n",
        "\n",
        "#  violin plot splitting and coloring the results according to the km-clusters\n",
        "sns.violinplot(melt_car['percent'], melt_car['measurement'], hue=melt_car['cluster'])"
      ],
      "execution_count": 16,
      "outputs": [
        {
          "output_type": "display_data",
          "data": {
            "text/html": [
              "<div>\n",
              "<style scoped>\n",
              "    .dataframe tbody tr th:only-of-type {\n",
              "        vertical-align: middle;\n",
              "    }\n",
              "\n",
              "    .dataframe tbody tr th {\n",
              "        vertical-align: top;\n",
              "    }\n",
              "\n",
              "    .dataframe thead th {\n",
              "        text-align: right;\n",
              "    }\n",
              "</style>\n",
              "<table border=\"1\" class=\"dataframe\">\n",
              "  <thead>\n",
              "    <tr style=\"text-align: right;\">\n",
              "      <th></th>\n",
              "      <th>state</th>\n",
              "      <th>drvr_fatl_col_bmiles</th>\n",
              "      <th>perc_fatl_speed</th>\n",
              "      <th>perc_fatl_alcohol</th>\n",
              "      <th>perc_fatl_1st_time</th>\n",
              "      <th>cluster</th>\n",
              "    </tr>\n",
              "  </thead>\n",
              "  <tbody>\n",
              "    <tr>\n",
              "      <th>0</th>\n",
              "      <td>Alabama</td>\n",
              "      <td>18.8</td>\n",
              "      <td>39</td>\n",
              "      <td>30</td>\n",
              "      <td>80</td>\n",
              "      <td>1</td>\n",
              "    </tr>\n",
              "    <tr>\n",
              "      <th>1</th>\n",
              "      <td>Alaska</td>\n",
              "      <td>18.1</td>\n",
              "      <td>41</td>\n",
              "      <td>25</td>\n",
              "      <td>94</td>\n",
              "      <td>0</td>\n",
              "    </tr>\n",
              "    <tr>\n",
              "      <th>2</th>\n",
              "      <td>Arizona</td>\n",
              "      <td>18.6</td>\n",
              "      <td>35</td>\n",
              "      <td>28</td>\n",
              "      <td>96</td>\n",
              "      <td>0</td>\n",
              "    </tr>\n",
              "    <tr>\n",
              "      <th>3</th>\n",
              "      <td>Arkansas</td>\n",
              "      <td>22.4</td>\n",
              "      <td>18</td>\n",
              "      <td>26</td>\n",
              "      <td>95</td>\n",
              "      <td>0</td>\n",
              "    </tr>\n",
              "    <tr>\n",
              "      <th>4</th>\n",
              "      <td>California</td>\n",
              "      <td>12.0</td>\n",
              "      <td>35</td>\n",
              "      <td>28</td>\n",
              "      <td>89</td>\n",
              "      <td>0</td>\n",
              "    </tr>\n",
              "  </tbody>\n",
              "</table>\n",
              "</div>"
            ],
            "text/plain": [
              "        state  drvr_fatl_col_bmiles  ...  perc_fatl_1st_time  cluster\n",
              "0     Alabama                  18.8  ...                  80        1\n",
              "1      Alaska                  18.1  ...                  94        0\n",
              "2     Arizona                  18.6  ...                  96        0\n",
              "3    Arkansas                  22.4  ...                  95        0\n",
              "4  California                  12.0  ...                  89        0\n",
              "\n",
              "[5 rows x 6 columns]"
            ]
          },
          "metadata": {
            "tags": []
          }
        },
        {
          "output_type": "display_data",
          "data": {
            "text/html": [
              "<div>\n",
              "<style scoped>\n",
              "    .dataframe tbody tr th:only-of-type {\n",
              "        vertical-align: middle;\n",
              "    }\n",
              "\n",
              "    .dataframe tbody tr th {\n",
              "        vertical-align: top;\n",
              "    }\n",
              "\n",
              "    .dataframe thead th {\n",
              "        text-align: right;\n",
              "    }\n",
              "</style>\n",
              "<table border=\"1\" class=\"dataframe\">\n",
              "  <thead>\n",
              "    <tr style=\"text-align: right;\">\n",
              "      <th></th>\n",
              "      <th>cluster</th>\n",
              "      <th>measurement</th>\n",
              "      <th>percent</th>\n",
              "    </tr>\n",
              "  </thead>\n",
              "  <tbody>\n",
              "    <tr>\n",
              "      <th>0</th>\n",
              "      <td>1</td>\n",
              "      <td>perc_fatl_speed</td>\n",
              "      <td>39</td>\n",
              "    </tr>\n",
              "    <tr>\n",
              "      <th>1</th>\n",
              "      <td>0</td>\n",
              "      <td>perc_fatl_speed</td>\n",
              "      <td>41</td>\n",
              "    </tr>\n",
              "    <tr>\n",
              "      <th>2</th>\n",
              "      <td>0</td>\n",
              "      <td>perc_fatl_speed</td>\n",
              "      <td>35</td>\n",
              "    </tr>\n",
              "    <tr>\n",
              "      <th>3</th>\n",
              "      <td>0</td>\n",
              "      <td>perc_fatl_speed</td>\n",
              "      <td>18</td>\n",
              "    </tr>\n",
              "    <tr>\n",
              "      <th>4</th>\n",
              "      <td>0</td>\n",
              "      <td>perc_fatl_speed</td>\n",
              "      <td>35</td>\n",
              "    </tr>\n",
              "  </tbody>\n",
              "</table>\n",
              "</div>"
            ],
            "text/plain": [
              "   cluster      measurement  percent\n",
              "0        1  perc_fatl_speed       39\n",
              "1        0  perc_fatl_speed       41\n",
              "2        0  perc_fatl_speed       35\n",
              "3        0  perc_fatl_speed       18\n",
              "4        0  perc_fatl_speed       35"
            ]
          },
          "metadata": {
            "tags": []
          }
        },
        {
          "output_type": "stream",
          "text": [
            "/usr/local/lib/python3.6/dist-packages/seaborn/_decorators.py:43: FutureWarning: Pass the following variables as keyword args: x, y. From version 0.12, the only valid positional argument will be `data`, and passing other arguments without an explicit keyword will result in an error or misinterpretation.\n",
            "  FutureWarning\n"
          ],
          "name": "stderr"
        },
        {
          "output_type": "execute_result",
          "data": {
            "text/plain": [
              "<matplotlib.axes._subplots.AxesSubplot at 0x7f2dff2805f8>"
            ]
          },
          "metadata": {
            "tags": []
          },
          "execution_count": 16
        },
        {
          "output_type": "display_data",
          "data": {
            "image/png": "[encoded data removed]",
            "text/plain": [
              "<Figure size 432x288 with 1 Axes>"
            ]
          },
          "metadata": {
            "tags": [],
            "needs_background": "light"
          }
        }
      ]
    },
    {
      "cell_type": "markdown",
      "metadata": {
        "editable": false,
        "dc": {
          "key": "73"
        },
        "tags": [
          "context"
        ],
        "run_control": {
          "frozen": true
        },
        "deletable": false,
        "id": "e-rbUAD8JM8X"
      },
      "source": [
        "## 11. Computing the number of accidents within each cluster\n",
        "<p>Now it is clear that different groups of states may require different interventions. Since resources and time are limited, it is useful to start off with an intervention in one of the three groups first. Which group would this be? To determine this, we will include data on how many miles are driven in each state, because this will help us to compute the total number of fatal accidents in each state. Data on miles driven is available in another tab-delimited text file. We will assign this new information to a column in the DataFrame and create a violin plot for how many total fatal traffic accidents there are within each state cluster.</p>"
      ]
    },
    {
      "cell_type": "code",
      "metadata": {
        "id": "-XcLcd7WRiiT"
      },
      "source": [
        "downloaded2 = drive.CreateFile({'id':'1oD1iwrnV7o7cYzWNLPv2EClJ1cDykJUP'}) \n",
        "downloaded2.GetContentFile('miles-driven.csv') "
      ],
      "execution_count": 19,
      "outputs": []
    },
    {
      "cell_type": "code",
      "metadata": {
        "trusted": true,
        "dc": {
          "key": "73"
        },
        "tags": [
          "sample_code"
        ],
        "colab": {
          "base_uri": "https://localhost:8080/",
          "height": 771
        },
        "id": "BK9WTY78JM8X",
        "outputId": "2e9c9534-78f0-4282-d509-0b339574b4a2"
      },
      "source": [
        "# Read in the new dataset\n",
        "miles_driven = pd.read_csv('miles-driven.csv', sep='|')\n",
        "\n",
        "display(miles_driven.head())\n",
        "\n",
        "# Merge the `car_acc` DataFrame with the `miles_driven` DataFrame\n",
        "car_acc_miles = car_acc.merge(miles_driven, on='state')\n",
        "\n",
        "# Create a new column for the number of drivers involved in fatal accidents\n",
        "car_acc_miles['num_drvr_fatl_col'] = (car_acc_miles['drvr_fatl_col_bmiles'] * car_acc_miles['million_miles_annually']) / 1000\n",
        "\n",
        "display(car_acc_miles.head())\n",
        "\n",
        "# Create a barplot of the total number of accidents per cluster\n",
        "sns.barplot(x='cluster', y='num_drvr_fatl_col', data=car_acc_miles, estimator=sum, ci=None)\n",
        "\n",
        "# Calculate the number of states in each cluster and their 'num_drvr_fatl_col' mean and sum.\n",
        "count_mean_sum = car_acc_miles.groupby('cluster')['num_drvr_fatl_col'].agg(['count', 'mean', 'sum'])\n",
        "count_mean_sum"
      ],
      "execution_count": 20,
      "outputs": [
        {
          "output_type": "display_data",
          "data": {
            "text/html": [
              "<div>\n",
              "<style scoped>\n",
              "    .dataframe tbody tr th:only-of-type {\n",
              "        vertical-align: middle;\n",
              "    }\n",
              "\n",
              "    .dataframe tbody tr th {\n",
              "        vertical-align: top;\n",
              "    }\n",
              "\n",
              "    .dataframe thead th {\n",
              "        text-align: right;\n",
              "    }\n",
              "</style>\n",
              "<table border=\"1\" class=\"dataframe\">\n",
              "  <thead>\n",
              "    <tr style=\"text-align: right;\">\n",
              "      <th></th>\n",
              "      <th>state</th>\n",
              "      <th>million_miles_annually</th>\n",
              "    </tr>\n",
              "  </thead>\n",
              "  <tbody>\n",
              "    <tr>\n",
              "      <th>0</th>\n",
              "      <td>Alabama</td>\n",
              "      <td>64914</td>\n",
              "    </tr>\n",
              "    <tr>\n",
              "      <th>1</th>\n",
              "      <td>Alaska</td>\n",
              "      <td>4593</td>\n",
              "    </tr>\n",
              "    <tr>\n",
              "      <th>2</th>\n",
              "      <td>Arizona</td>\n",
              "      <td>59575</td>\n",
              "    </tr>\n",
              "    <tr>\n",
              "      <th>3</th>\n",
              "      <td>Arkansas</td>\n",
              "      <td>32953</td>\n",
              "    </tr>\n",
              "    <tr>\n",
              "      <th>4</th>\n",
              "      <td>California</td>\n",
              "      <td>320784</td>\n",
              "    </tr>\n",
              "  </tbody>\n",
              "</table>\n",
              "</div>"
            ],
            "text/plain": [
              "        state  million_miles_annually\n",
              "0     Alabama                   64914\n",
              "1      Alaska                    4593\n",
              "2     Arizona                   59575\n",
              "3    Arkansas                   32953\n",
              "4  California                  320784"
            ]
          },
          "metadata": {
            "tags": []
          }
        },
        {
          "output_type": "display_data",
          "data": {
            "text/html": [
              "<div>\n",
              "<style scoped>\n",
              "    .dataframe tbody tr th:only-of-type {\n",
              "        vertical-align: middle;\n",
              "    }\n",
              "\n",
              "    .dataframe tbody tr th {\n",
              "        vertical-align: top;\n",
              "    }\n",
              "\n",
              "    .dataframe thead th {\n",
              "        text-align: right;\n",
              "    }\n",
              "</style>\n",
              "<table border=\"1\" class=\"dataframe\">\n",
              "  <thead>\n",
              "    <tr style=\"text-align: right;\">\n",
              "      <th></th>\n",
              "      <th>state</th>\n",
              "      <th>drvr_fatl_col_bmiles</th>\n",
              "      <th>perc_fatl_speed</th>\n",
              "      <th>perc_fatl_alcohol</th>\n",
              "      <th>perc_fatl_1st_time</th>\n",
              "      <th>cluster</th>\n",
              "      <th>million_miles_annually</th>\n",
              "      <th>num_drvr_fatl_col</th>\n",
              "    </tr>\n",
              "  </thead>\n",
              "  <tbody>\n",
              "    <tr>\n",
              "      <th>0</th>\n",
              "      <td>Alabama</td>\n",
              "      <td>18.8</td>\n",
              "      <td>39</td>\n",
              "      <td>30</td>\n",
              "      <td>80</td>\n",
              "      <td>1</td>\n",
              "      <td>64914</td>\n",
              "      <td>1220.3832</td>\n",
              "    </tr>\n",
              "    <tr>\n",
              "      <th>1</th>\n",
              "      <td>Alaska</td>\n",
              "      <td>18.1</td>\n",
              "      <td>41</td>\n",
              "      <td>25</td>\n",
              "      <td>94</td>\n",
              "      <td>0</td>\n",
              "      <td>4593</td>\n",
              "      <td>83.1333</td>\n",
              "    </tr>\n",
              "    <tr>\n",
              "      <th>2</th>\n",
              "      <td>Arizona</td>\n",
              "      <td>18.6</td>\n",
              "      <td>35</td>\n",
              "      <td>28</td>\n",
              "      <td>96</td>\n",
              "      <td>0</td>\n",
              "      <td>59575</td>\n",
              "      <td>1108.0950</td>\n",
              "    </tr>\n",
              "    <tr>\n",
              "      <th>3</th>\n",
              "      <td>Arkansas</td>\n",
              "      <td>22.4</td>\n",
              "      <td>18</td>\n",
              "      <td>26</td>\n",
              "      <td>95</td>\n",
              "      <td>0</td>\n",
              "      <td>32953</td>\n",
              "      <td>738.1472</td>\n",
              "    </tr>\n",
              "    <tr>\n",
              "      <th>4</th>\n",
              "      <td>California</td>\n",
              "      <td>12.0</td>\n",
              "      <td>35</td>\n",
              "      <td>28</td>\n",
              "      <td>89</td>\n",
              "      <td>0</td>\n",
              "      <td>320784</td>\n",
              "      <td>3849.4080</td>\n",
              "    </tr>\n",
              "  </tbody>\n",
              "</table>\n",
              "</div>"
            ],
            "text/plain": [
              "        state  drvr_fatl_col_bmiles  ...  million_miles_annually  num_drvr_fatl_col\n",
              "0     Alabama                  18.8  ...                   64914          1220.3832\n",
              "1      Alaska                  18.1  ...                    4593            83.1333\n",
              "2     Arizona                  18.6  ...                   59575          1108.0950\n",
              "3    Arkansas                  22.4  ...                   32953           738.1472\n",
              "4  California                  12.0  ...                  320784          3849.4080\n",
              "\n",
              "[5 rows x 8 columns]"
            ]
          },
          "metadata": {
            "tags": []
          }
        },
        {
          "output_type": "execute_result",
          "data": {
            "text/html": [
              "<div>\n",
              "<style scoped>\n",
              "    .dataframe tbody tr th:only-of-type {\n",
              "        vertical-align: middle;\n",
              "    }\n",
              "\n",
              "    .dataframe tbody tr th {\n",
              "        vertical-align: top;\n",
              "    }\n",
              "\n",
              "    .dataframe thead th {\n",
              "        text-align: right;\n",
              "    }\n",
              "</style>\n",
              "<table border=\"1\" class=\"dataframe\">\n",
              "  <thead>\n",
              "    <tr style=\"text-align: right;\">\n",
              "      <th></th>\n",
              "      <th>count</th>\n",
              "      <th>mean</th>\n",
              "      <th>sum</th>\n",
              "    </tr>\n",
              "    <tr>\n",
              "      <th>cluster</th>\n",
              "      <th></th>\n",
              "      <th></th>\n",
              "      <th></th>\n",
              "    </tr>\n",
              "  </thead>\n",
              "  <tbody>\n",
              "    <tr>\n",
              "      <th>0</th>\n",
              "      <td>22</td>\n",
              "      <td>898.378595</td>\n",
              "      <td>19764.3291</td>\n",
              "    </tr>\n",
              "    <tr>\n",
              "      <th>1</th>\n",
              "      <td>18</td>\n",
              "      <td>911.406439</td>\n",
              "      <td>16405.3159</td>\n",
              "    </tr>\n",
              "    <tr>\n",
              "      <th>2</th>\n",
              "      <td>11</td>\n",
              "      <td>860.505945</td>\n",
              "      <td>9465.5654</td>\n",
              "    </tr>\n",
              "  </tbody>\n",
              "</table>\n",
              "</div>"
            ],
            "text/plain": [
              "         count        mean         sum\n",
              "cluster                               \n",
              "0           22  898.378595  19764.3291\n",
              "1           18  911.406439  16405.3159\n",
              "2           11  860.505945   9465.5654"
            ]
          },
          "metadata": {
            "tags": []
          },
          "execution_count": 20
        },
        {
          "output_type": "display_data",
          "data": {
            "image/png": "[encoded data removed]",
            "text/plain": [
              "<Figure size 432x288 with 1 Axes>"
            ]
          },
          "metadata": {
            "tags": [],
            "needs_background": "light"
          }
        }
      ]
    },
    {
      "cell_type": "markdown",
      "metadata": {
        "editable": false,
        "dc": {
          "key": "80"
        },
        "tags": [
          "context"
        ],
        "run_control": {
          "frozen": true
        },
        "deletable": false,
        "id": "5VE1AHTRJM8X"
      },
      "source": [
        "## 12. Making a decision\n",
        "<p>As we can see, there is no obvious correct choice regarding which cluster is the most important to focus on. Yet, we can still argue for a certain cluster and motivate this using our findings above. Which cluster do you think should be a focus for policy intervention and further investigation?</p>"
      ]
    },
    {
      "cell_type": "code",
      "metadata": {
        "trusted": true,
        "tags": [
          "sample_code"
        ],
        "dc": {
          "key": "80"
        },
        "id": "3FbOxo8MJM8X"
      },
      "source": [
        "\n",
        "\n",
        "# Which cluster would you choose?\n",
        "cluster_num = 2"
      ],
      "execution_count": 21,
      "outputs": []
    }
  ]
}